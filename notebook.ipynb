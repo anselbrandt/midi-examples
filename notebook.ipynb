{
 "cells": [
  {
   "cell_type": "code",
   "execution_count": 32,
   "metadata": {},
   "outputs": [],
   "source": [
    "import mido"
   ]
  },
  {
   "cell_type": "code",
   "execution_count": 33,
   "metadata": {},
   "outputs": [],
   "source": [
    "giantSteps = 'midi/book_1/GIANTS~1.MID'\n",
    "mid = mido.MidiFile(giantSteps)"
   ]
  },
  {
   "cell_type": "code",
   "execution_count": 34,
   "metadata": {},
   "outputs": [
    {
     "name": "stdout",
     "output_type": "stream",
     "text": [
      "MetaMessage('key_signature', key='C', time=0)\n",
      "MetaMessage('track_name', name='Bajo', time=0)\n",
      "MetaMessage('track_name', name='Batería', time=0)\n",
      "MetaMessage('track_name', name='Piano', time=0)\n",
      "MetaMessage('track_name', name='Guitarra', time=0)\n",
      "MetaMessage('track_name', name='Cuerdas', time=0)\n",
      "MetaMessage('track_name', name='Melodía', time=0)\n"
     ]
    }
   ],
   "source": [
    "midTracks = mid.tracks\n",
    "\n",
    "for track in midTracks:\n",
    "    print(track[1])"
   ]
  },
  {
   "cell_type": "code",
   "execution_count": 39,
   "metadata": {},
   "outputs": [],
   "source": [
    "newMid = mid\n",
    "newMid.tracks = []\n",
    "newMid.tracks.append(midTracks[3])\n",
    "newMid.tracks.append(midTracks[6])"
   ]
  },
  {
   "cell_type": "code",
   "execution_count": 40,
   "metadata": {},
   "outputs": [
    {
     "name": "stdout",
     "output_type": "stream",
     "text": [
      "FLUID Synth (748004):Synth input port (748004:0) 128:0\n"
     ]
    }
   ],
   "source": [
    "ports = mido.get_output_names()\n",
    "print(ports[1])"
   ]
  },
  {
   "cell_type": "code",
   "execution_count": 41,
   "metadata": {},
   "outputs": [],
   "source": [
    "outport = mido.open_output(ports[1])"
   ]
  },
  {
   "cell_type": "code",
   "execution_count": 42,
   "metadata": {},
   "outputs": [],
   "source": [
    "for msg in newMid.play():\n",
    "    outport.send(msg)"
   ]
  }
 ],
 "metadata": {
  "kernelspec": {
   "display_name": "Python 3",
   "language": "python",
   "name": "python3"
  },
  "language_info": {
   "codemirror_mode": {
    "name": "ipython",
    "version": 3
   },
   "file_extension": ".py",
   "mimetype": "text/x-python",
   "name": "python",
   "nbconvert_exporter": "python",
   "pygments_lexer": "ipython3",
   "version": "3.11.6"
  }
 },
 "nbformat": 4,
 "nbformat_minor": 2
}
